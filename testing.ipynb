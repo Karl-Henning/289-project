{
 "cells": [
  {
   "cell_type": "code",
   "execution_count": null,
   "metadata": {},
   "outputs": [],
   "source": [
    "%load_ext autoreload\n",
    "%autoreload 2\n",
    "\n",
    "from agents.dqn_agent import DQNAgent\n",
    "\n",
    "import time\n",
    "\n",
    "import gymnasium as gym\n",
    "import numpy as np\n",
    "import torch\n",
    "from infrastructure import pytorch_util as ptu\n",
    "\n",
    "from scripting_utils import make_logger, make_config\n",
    "\n",
    "import matplotlib.pyplot as plt\n",
    "from IPython.display import clear_output"
   ]
  },
  {
   "cell_type": "code",
   "execution_count": null,
   "metadata": {},
   "outputs": [],
   "source": [
    "class Args:\n",
    "  def __init__(self):\n",
    "    self.config_file = \"experiments/dqn/car_racing.yaml\"\n",
    "    self.metrics_interval = 10000\n",
    "    self.video_interval = 20000\n",
    "    self.save_interval = 10000\n",
    "    self.num_eval_trajectories = 10\n",
    "    self.num_render_trajectories = 1\n",
    "    self.seed = 1\n",
    "    self.no_gpu = False\n",
    "    self.which_gpu = 0\n",
    "    self.log_interval = 1000\n",
    "\n",
    "args = Args()\n",
    "\n",
    "# create directory for logging\n",
    "# logdir_prefix = \"hw3_dqn_\"  # keep for autograder\n",
    "\n",
    "logdir_path = \"data/hw3_dqn_dqn_CarRacing-v2_d0.99_tu2000_lr0.0001_doubleq_clip10.0_06-05-2024_15-59-12\"\n",
    "\n",
    "config = make_config(args.config_file)\n",
    "# logger = make_logger(logdir_prefix, config)"
   ]
  },
  {
   "cell_type": "code",
   "execution_count": null,
   "metadata": {},
   "outputs": [],
   "source": [
    "# set random seeds\n",
    "np.random.seed(args.seed)\n",
    "torch.manual_seed(args.seed)\n",
    "ptu.init_gpu(use_gpu=not args.no_gpu, gpu_id=args.which_gpu)"
   ]
  },
  {
   "cell_type": "code",
   "execution_count": null,
   "metadata": {},
   "outputs": [],
   "source": [
    "# make the gym environment\n",
    "env = config[\"make_env\"]()\n",
    "\n",
    "discrete = isinstance(env.action_space, gym.spaces.Discrete)\n",
    "\n",
    "assert discrete, \"DQN only supports discrete action spaces\""
   ]
  },
  {
   "cell_type": "code",
   "execution_count": null,
   "metadata": {},
   "outputs": [],
   "source": [
    "agent = DQNAgent(\n",
    "  env.observation_space.shape,\n",
    "  env.action_space.n,\n",
    "  **config[\"agent_kwargs\"],\n",
    ")"
   ]
  },
  {
   "cell_type": "code",
   "execution_count": null,
   "metadata": {},
   "outputs": [],
   "source": [
    "steps = 290000\n",
    "agent.load(logdir_path + f\"/agent_{steps}.pt\")"
   ]
  },
  {
   "cell_type": "code",
   "execution_count": null,
   "metadata": {},
   "outputs": [],
   "source": [
    "observation, info = env.reset()\n",
    "for _ in range(1000):\n",
    "    # Render the environment\n",
    "    clear_output(wait=True)\n",
    "    print(observation[0].shape)\n",
    "    plt.imshow(observation[0], cmap='gray')\n",
    "    plt.show()\n",
    "    \n",
    "    action = agent.get_action(observation)\n",
    "\n",
    "    observation, reward, terminated, truncated, info = env.step(action)\n",
    "\n",
    "    # If the episode has ended then we can reset to start a new episode\n",
    "    if terminated or truncated:\n",
    "        observation, info = env.reset()\n",
    "        break\n",
    "\n",
    "env.close()"
   ]
  }
 ],
 "metadata": {
  "kernelspec": {
   "display_name": "rl",
   "language": "python",
   "name": "python3"
  },
  "language_info": {
   "codemirror_mode": {
    "name": "ipython",
    "version": 3
   },
   "file_extension": ".py",
   "mimetype": "text/x-python",
   "name": "python",
   "nbconvert_exporter": "python",
   "pygments_lexer": "ipython3",
   "version": "3.12.3"
  }
 },
 "nbformat": 4,
 "nbformat_minor": 2
}
